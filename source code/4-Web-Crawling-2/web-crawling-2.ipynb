{
 "cells": [
  {
   "cell_type": "markdown",
   "metadata": {},
   "source": [
    "# 파이썬 웹 크롤링 & 텍스트 분석"
   ]
  },
  {
   "cell_type": "markdown",
   "metadata": {},
   "source": [
    "## 4. 다음 영화 리뷰 크롤링하기\n",
    "- 첫 번째 리뷰 출력하기\n",
    "- 첫 페이지의 리뷰 모두 출력하기\n",
    "- 여러 페이지의 리뷰 저장하기\n",
    "- 모든 리뷰 가져오기"
   ]
  },
  {
   "cell_type": "markdown",
   "metadata": {},
   "source": [
    "### 실습 4-1. 영화 '라라랜드' 리뷰 크롤링하기 (1)\n",
    "- 영화 '라라랜드'의 다음 영화 네티즌 리뷰의 첫 번째 리뷰 내용을 출력해 본다.\n",
    "- URL: ```http://movie.daum.net/moviedb/grade?movieId=95306```"
   ]
  },
  {
   "cell_type": "code",
   "execution_count": 5,
   "metadata": {},
   "outputs": [
    {
     "name": "stdout",
     "output_type": "stream",
     "text": [
      "다시 보고싶은 영화, ost에 빠져드는 영화\n"
     ]
    }
   ],
   "source": [
    "## Your answer"
   ]
  },
  {
   "cell_type": "markdown",
   "metadata": {
    "collapsed": true
   },
   "source": [
    "### 실습 4-2. 영화 '라라랜드' 리뷰 크롤링하기 (2)\n",
    "- 영화 '라라랜드'의 다음 영화 네티즌 리뷰 첫 번째 페이지의 리뷰를 모두 출력해 본다.\n",
    "- URL: ```http://movie.daum.net/moviedb/grade?movieId=95306```"
   ]
  },
  {
   "cell_type": "code",
   "execution_count": 6,
   "metadata": {},
   "outputs": [
    {
     "name": "stdout",
     "output_type": "stream",
     "text": [
      "다시 보고싶은 영화, ost에 빠져드는 영화\n",
      "\n",
      "\n",
      "영화가 줄 수 있는 아름다움의 극치....아름다운 음악과 영상을 극장에서 보지 못한게 정말 후회되요.특히 두 주인공의 마지막 만남의 '가지않은 길'에 대한 상상 씬은 ᆢ감탄만 나오네요.\n",
      "결과가 현실적이어서 더 환상적이었다.\n",
      "역시 위플래쉬감독음악을 좀아는 감독!!!!\n",
      "ㆍ\n",
      "저영화를 보고 역겹다는 사람도 다 있네세상은 넓고 별사람도 넘쳐난다\n",
      "아. 진심 끝까지 본 나를 미워하게 되는 영화.역겹다\n",
      "\n"
     ]
    }
   ],
   "source": [
    "## Your answer"
   ]
  },
  {
   "cell_type": "markdown",
   "metadata": {},
   "source": [
    "**NOTE**: 빈(내용이 없는) 리뷰 제거하기\n",
    "- 위에서 출력된 리뷰 데이터를 보면, 일부 리뷰는 내용이 없는 공백으로 표시되는 것을 볼 수 있다. 이는 일부 유저는 평점(별점)만 표시하고, 리뷰 내용은 작성하지 않은 것이다. 이를 제거하려면 어떻게 할수 있을까?\n",
    "- **SOLUTION:** if 문을 활용한다\n",
    "``` python\n",
    "if 리뷰 내용 != \"\":\n",
    "    지시사항\n",
    "```"
   ]
  },
  {
   "cell_type": "code",
   "execution_count": 7,
   "metadata": {},
   "outputs": [
    {
     "name": "stdout",
     "output_type": "stream",
     "text": [
      "다시 보고싶은 영화, ost에 빠져드는 영화\n",
      "영화가 줄 수 있는 아름다움의 극치....아름다운 음악과 영상을 극장에서 보지 못한게 정말 후회되요.특히 두 주인공의 마지막 만남의 '가지않은 길'에 대한 상상 씬은 ᆢ감탄만 나오네요.\n",
      "결과가 현실적이어서 더 환상적이었다.\n",
      "역시 위플래쉬감독음악을 좀아는 감독!!!!\n",
      "ㆍ\n",
      "저영화를 보고 역겹다는 사람도 다 있네세상은 넓고 별사람도 넘쳐난다\n",
      "아. 진심 끝까지 본 나를 미워하게 되는 영화.역겹다\n"
     ]
    }
   ],
   "source": [
    "## Your answer"
   ]
  },
  {
   "cell_type": "markdown",
   "metadata": {
    "collapsed": true
   },
   "source": [
    "### 실습 4-3. 영화 '라라랜드' 리뷰 크롤링하기 (3)\n",
    "- 영화 '라라랜드'의 다음 영화 네티즌 리뷰의 첫 5번째 페이지의 리뷰를 가져와 텍스트 파일에 저장해 본다.\n",
    "- 텍스트 파일을 각 줄에 리뷰가 하나씩 저장되도록 한다. 즉, 각 리뷰는 줄바꿈 문자(```\\n```)로 구분된다. \n",
    "- 텍스트 파일의 이름은 ```4-3.txt```로 저장한다."
   ]
  },
  {
   "cell_type": "code",
   "execution_count": 10,
   "metadata": {},
   "outputs": [],
   "source": [
    "## Your answer"
   ]
  },
  {
   "cell_type": "markdown",
   "metadata": {},
   "source": [
    "### 실습 4-4. 영화 '라라랜드' 리뷰 크롤링하기 (4)\n",
    "- 영화 '라라랜드'의 모든 영화 리뷰를 모아 저장한다(마지막 페이지는 제외).\n",
    "- 텍스트 파일을 각 줄에 리뷰가 하나씩 저장되도록 한다. 즉, 각 리뷰는 줄바꿈 문자(```\\n```)로 구분된다. \n",
    "- 텍스트 파일의 이름은 ```4-4.txt```로 저장한다."
   ]
  },
  {
   "cell_type": "code",
   "execution_count": null,
   "metadata": {
    "collapsed": true
   },
   "outputs": [],
   "source": [
    "## Your answer"
   ]
  },
  {
   "cell_type": "markdown",
   "metadata": {},
   "source": [
    "### 실습 4-5. 다른 영화 리뷰 크롤링하기\n",
    "- 좋아하는 영화의 리뷰를 크롤링해 본다.\n",
    "- 최소 3개 이상의 영화의 리뷰를 100개 이상 크롤링해본다."
   ]
  },
  {
   "cell_type": "code",
   "execution_count": null,
   "metadata": {
    "collapsed": true
   },
   "outputs": [],
   "source": []
  }
 ],
 "metadata": {
  "kernelspec": {
   "display_name": "Python 3",
   "language": "python",
   "name": "python3"
  },
  "language_info": {
   "codemirror_mode": {
    "name": "ipython",
    "version": 3
   },
   "file_extension": ".py",
   "mimetype": "text/x-python",
   "name": "python",
   "nbconvert_exporter": "python",
   "pygments_lexer": "ipython3",
   "version": "3.6.1"
  }
 },
 "nbformat": 4,
 "nbformat_minor": 2
}
