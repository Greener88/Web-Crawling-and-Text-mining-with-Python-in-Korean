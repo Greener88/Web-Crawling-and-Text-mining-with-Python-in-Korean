{
 "cells": [
  {
   "cell_type": "markdown",
   "metadata": {},
   "source": [
    "# 파이썬 웹 크롤링 & 텍스트 분석"
   ]
  },
  {
   "cell_type": "markdown",
   "metadata": {},
   "source": [
    "## 5. 브라우저 자동화(splinter)\n",
    "- 페이지 방문하기\n",
    "- 요소 찾기\n",
    "- 입력\n",
    "- 마우스 동작\n",
    "- 링크 찾기\n",
    "- 브라우저 속성 가져오기"
   ]
  },
  {
   "cell_type": "code",
   "execution_count": 1,
   "metadata": {
    "collapsed": true
   },
   "outputs": [],
   "source": [
    "from splinter import Browser"
   ]
  },
  {
   "cell_type": "code",
   "execution_count": 2,
   "metadata": {
    "collapsed": true
   },
   "outputs": [],
   "source": [
    "browser = Browser(\"chrome\")"
   ]
  },
  {
   "cell_type": "code",
   "execution_count": null,
   "metadata": {
    "collapsed": true
   },
   "outputs": [],
   "source": [
    "browser.visit(\"https://google.com\")"
   ]
  },
  {
   "cell_type": "markdown",
   "metadata": {},
   "source": [
    "### 페이지 방문하기\n",
    "- ```visit()``` 함수를 활용하여 원하는 웹 페이지에 방문할 수 있다.\n",
    "- 함수의 인자값으로 URL 주소를 string 타입으로 입력해 준다."
   ]
  },
  {
   "cell_type": "code",
   "execution_count": 7,
   "metadata": {
    "collapsed": true
   },
   "outputs": [],
   "source": [
    "# 다음 영화 메인 페이지 방문하기\n",
    "browser = Browser(\"chrome\")\n",
    "browser.visit(\"https://movie.daum.net/\")"
   ]
  },
  {
   "cell_type": "markdown",
   "metadata": {},
   "source": [
    "### 요소 찾기(finding elements)\n",
    "- Splinter는 웹 페이지의 요소를 찾을 수 있는 6가지 방식을 제공한다.\n",
    "- 아래 여섯 가지 함수는 조건을 충족하는 요소를 모두 찾아 리스트로 반환한다.\n",
    "    - ```find_by_id()```는 최대 하나의 요소만 찾을 수 있다. 그 이유는?\n",
    "```python\n",
    "browser.find_by_css() \n",
    "browser.find_by_xpath()\n",
    "browser.find_by_tag()\n",
    "browser.find_by_text()\n",
    "browser.find_by_id()\n",
    "browser.find_by_value()\n",
    "```"
   ]
  },
  {
   "cell_type": "code",
   "execution_count": 15,
   "metadata": {},
   "outputs": [
    {
     "name": "stdout",
     "output_type": "stream",
     "text": [
      "[<splinter.driver.webdriver.WebDriverElement object at 0x000002335474D780>]\n"
     ]
    }
   ],
   "source": [
    "search = browser.find_by_name(\"searchText\")\n",
    "print(search)"
   ]
  },
  {
   "cell_type": "markdown",
   "metadata": {},
   "source": [
    "### 입력(input)\n",
    "- ```fill()``` 함수를 활용하면 키보드로 내용을 입력하듯이 원하는 문자열/숫자를 창에 입력할 수 있다.\n",
    "```python\n",
    "browser.fill(name, value)\n",
    "```"
   ]
  },
  {
   "cell_type": "code",
   "execution_count": 14,
   "metadata": {
    "collapsed": true
   },
   "outputs": [],
   "source": [
    "browser.fill(\"searchText\", \"라라랜드\")"
   ]
  },
  {
   "cell_type": "markdown",
   "metadata": {},
   "source": [
    "### 마우스 동작(mouse interaction)\n",
    "- 아래 함수를 활용하면 마우스 동작을 구현할 수 있다\n",
    "```python\n",
    "mouse_over()\n",
    "mouse_out()\n",
    "click()\n",
    "double_click()\n",
    "right_click()\n",
    "drag_and_drop()\n",
    "```"
   ]
  },
  {
   "cell_type": "code",
   "execution_count": 17,
   "metadata": {
    "collapsed": true
   },
   "outputs": [],
   "source": [
    "# \"검색하기\" 버튼 클릭\n",
    "button = browser.find_by_text(\"검색하기\")\n",
    "button.click()"
   ]
  },
  {
   "cell_type": "code",
   "execution_count": 18,
   "metadata": {
    "collapsed": true
   },
   "outputs": [],
   "source": [
    "# 라라랜드 영화 메인 페이지로 클릭해서 들어간다\n",
    "browser.find_by_id(\"contents_result\").find_by_tag(\"a\").click()"
   ]
  },
  {
   "cell_type": "markdown",
   "metadata": {},
   "source": [
    "### 링크 찾기(\"a\")\n",
    "- 링크는 HTML 요소 중에 \"a\" 태그와 \"href\" 속성을 가진 요소로, 클릭하면 다른 페이지나 화면으로 이동을 유도한다.\n",
    "- Splinter에서 링크를 찾는 함수는 아래와 같다.\n",
    "```python\n",
    "browser.find_link_by_text()\n",
    "browser.find_link_by_partial_text()\n",
    "browser.find_link_by_href()\n",
    "browser.find_link_by_partial_href()\n",
    "```"
   ]
  },
  {
   "cell_type": "code",
   "execution_count": 19,
   "metadata": {
    "collapsed": true
   },
   "outputs": [],
   "source": [
    "# 평점 화면으로 넘어가기\n",
    "browser.find_link_by_partial_href(\"/moviedb/grade?movieId=\").click()"
   ]
  },
  {
   "cell_type": "markdown",
   "metadata": {},
   "source": [
    "### 브라우저의 속성 가져오기\n",
    "- 브라우저의 속성을 아래와 같이 가져올 수 있다.\n",
    "```python\n",
    "browser.title\n",
    "browser.html\n",
    "browser.url\n",
    "```"
   ]
  },
  {
   "cell_type": "code",
   "execution_count": 20,
   "metadata": {},
   "outputs": [
    {
     "name": "stdout",
     "output_type": "stream",
     "text": [
      "http://movie.daum.net/moviedb/grade?movieId=95306\n"
     ]
    }
   ],
   "source": [
    "url = browser.url\n",
    "print(url)"
   ]
  },
  {
   "cell_type": "code",
   "execution_count": 21,
   "metadata": {
    "collapsed": true
   },
   "outputs": [],
   "source": [
    "# 페이지 순서대로 넘기기\n",
    "no_pages = 5\n",
    "i = 1\n",
    "\n",
    "while i < no_pages:\n",
    "    browser.find_link_by_href(\"grade?movieId=95306&type=netizen&page={}\".format(i+1)).click()\n",
    "    i +=1"
   ]
  },
  {
   "cell_type": "markdown",
   "metadata": {},
   "source": [
    "### 실습 5-1. 영어 사전 크롤링하기 (1)\n",
    "- 영어 사전 페이지에 접속해 단어 \"orange\"를 검색한 결과의 첫 번째 의미(meaning)을 출력한다.\n",
    "- URL: ```http://www.dictionary.com```"
   ]
  },
  {
   "cell_type": "code",
   "execution_count": 7,
   "metadata": {},
   "outputs": [
    {
     "data": {
      "text/plain": [
       "'a globose, reddish-yellow, bitter or sweet, edible citrus fruit. '"
      ]
     },
     "execution_count": 7,
     "metadata": {},
     "output_type": "execute_result"
    }
   ],
   "source": [
    "## Your answer"
   ]
  },
  {
   "cell_type": "markdown",
   "metadata": {},
   "source": [
    "### 실습 5-2. 영어 사전 크롤링하기 (2)\n",
    "- 영어 사전 페이지에 접속해 단어 \"orange\"를 검색한 결과의 모든 의미(meaning)를 텍스트 파일(5-2.txt)에 저장해 본다.\n",
    "- URL: ```http://www.dictionary.com```"
   ]
  },
  {
   "cell_type": "code",
   "execution_count": 12,
   "metadata": {
    "collapsed": true
   },
   "outputs": [],
   "source": [
    "## Your answer"
   ]
  },
  {
   "cell_type": "markdown",
   "metadata": {},
   "source": [
    "### 실습 5-3. 영어 사전 크롤링하기 (3)\n",
    "- 영어 사전 페이지에 접속해 단어 \"orange\"를 검색한 결과에서 **[Word Origin]** 버튼을 클릭해 \"Origin of orange\"가 화면에 나오도록 해본다.\n",
    "- URL: ```http://www.dictionary.com```"
   ]
  },
  {
   "cell_type": "code",
   "execution_count": 9,
   "metadata": {
    "collapsed": true
   },
   "outputs": [],
   "source": [
    "## Your answer"
   ]
  }
 ],
 "metadata": {
  "kernelspec": {
   "display_name": "Python 3",
   "language": "python",
   "name": "python3"
  },
  "language_info": {
   "codemirror_mode": {
    "name": "ipython",
    "version": 3
   },
   "file_extension": ".py",
   "mimetype": "text/x-python",
   "name": "python",
   "nbconvert_exporter": "python",
   "pygments_lexer": "ipython3",
   "version": "3.6.1"
  }
 },
 "nbformat": 4,
 "nbformat_minor": 2
}
