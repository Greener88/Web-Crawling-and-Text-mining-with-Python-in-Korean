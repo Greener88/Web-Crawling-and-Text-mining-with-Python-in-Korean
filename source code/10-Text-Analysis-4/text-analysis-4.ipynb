{
 "cells": [
  {
   "cell_type": "markdown",
   "metadata": {},
   "source": [
    "# 파이썬 웹 크롤링 & 텍스트 분석"
   ]
  },
  {
   "cell_type": "markdown",
   "metadata": {},
   "source": [
    "## 10. 다음 영화 리뷰 시각화하기\n",
    "- 태그 추출하기\n",
    "- 워드클라우드 그리기\n",
    "    - reference: http://konlpy.org/ko/v0.4.3/examples/wordcloud/"
   ]
  },
  {
   "cell_type": "markdown",
   "metadata": {},
   "source": [
    "### 리뷰 데이터 불러오기\n",
    "- ```open()``` 함수를 통해 파일을 열며, 열때 \"r\" (읽기) 모드로 설정한다."
   ]
  },
  {
   "cell_type": "code",
   "execution_count": 1,
   "metadata": {
    "collapsed": true,
    "scrolled": true
   },
   "outputs": [],
   "source": [
    "file = open(\"4-4.txt\", \"r\", encoding=\"utf-8\")\n",
    "data = file.read().split(\"\\n\")\n",
    "file.close()"
   ]
  },
  {
   "cell_type": "markdown",
   "metadata": {},
   "source": [
    "### 태그 추출하기 \n",
    "- 워드클라우드에 들어갈 데이터를 처리하기 위해 태그를 추출하고 그 사이즈와 색을 설정하기 위한 함수를 정의한다\n",
    "- 텍스트를 토큰화한 후 명사(noun)만 추출한다\n",
    "- 각 명사의 발생 빈도에 따라 태그의 크기(size)를 설정한다\n",
    "- 워드 클라우드에 들어갈 각 태그의 색(color)은 랜덤하게 설정한다"
   ]
  },
  {
   "cell_type": "code",
   "execution_count": 3,
   "metadata": {
    "collapsed": true
   },
   "outputs": [],
   "source": [
    "import random\n",
    "from konlpy.tag import Twitter \t\t\t\n",
    "from collections import Counter"
   ]
  },
  {
   "cell_type": "code",
   "execution_count": 5,
   "metadata": {},
   "outputs": [],
   "source": [
    "def get_tags(text, ntags = 100, multiplier = 1):\n",
    "    t = Twitter()\n",
    "    nouns = []\n",
    "    for sentence in text:\n",
    "        for noun in t.nouns(sentence):\n",
    "            nouns.append(noun)\n",
    "    \n",
    "    result = []\n",
    "    count = Counter(nouns)\n",
    "    \n",
    "    for n, c in count.most_common(ntags):\n",
    "        temp = {\"color\": (random.randint(0,255),random.randint(0,255),random.randint(0,255)),\n",
    "                \"tag\": n,\n",
    "                \"size\": c * multiplier}\n",
    "        result.append(temp)\n",
    "            \n",
    "    return result"
   ]
  },
  {
   "cell_type": "code",
   "execution_count": 7,
   "metadata": {},
   "outputs": [
    {
     "name": "stdout",
     "output_type": "stream",
     "text": [
      "{'color': (143, 8, 160), 'tag': '영화', 'size': 621}\n",
      "{'color': (49, 57, 85), 'tag': '음악', 'size': 183}\n",
      "{'color': (49, 157, 124), 'tag': '너무', 'size': 123}\n"
     ]
    }
   ],
   "source": [
    "# get_tags() 함수로 태그 가져오기\n",
    "tags = get_tags(data)\n",
    "print(tags[0])\n",
    "print(tags[1])\n",
    "print(tags[2])"
   ]
  },
  {
   "cell_type": "markdown",
   "metadata": {},
   "source": [
    "### 워드클라우드 그리기"
   ]
  },
  {
   "cell_type": "code",
   "execution_count": 8,
   "metadata": {},
   "outputs": [],
   "source": [
    "import pytagcloud, webbrowser\n",
    "\n",
    "def draw_cloud(tags, fname, fontname = \"Noto Sans CJK\", size = (1000, 600)):\n",
    "    pytagcloud.create_tag_image(tags, fname, fontname = fontname, size = size)\n",
    "    webbrowser.open(fname)"
   ]
  },
  {
   "cell_type": "code",
   "execution_count": 9,
   "metadata": {
    "collapsed": true
   },
   "outputs": [],
   "source": [
    "# 워드클라우드 그리고 파일 열기\n",
    "draw_cloud(tags, \"wordcloud.png\")"
   ]
  },
  {
   "cell_type": "markdown",
   "metadata": {},
   "source": [
    "### 실습10-1. 다음 영화 리뷰 시각화하기\n",
    "- 자신이 크롤링한 다른 영화의 리뷰 데이터의 워드클라우드를 그려 시각화를 해본다"
   ]
  },
  {
   "cell_type": "code",
   "execution_count": null,
   "metadata": {
    "collapsed": true
   },
   "outputs": [],
   "source": [
    "## Your answer"
   ]
  }
 ],
 "metadata": {
  "kernelspec": {
   "display_name": "Python 3",
   "language": "python",
   "name": "python3"
  },
  "language_info": {
   "codemirror_mode": {
    "name": "ipython",
    "version": 3
   },
   "file_extension": ".py",
   "mimetype": "text/x-python",
   "name": "python",
   "nbconvert_exporter": "python",
   "pygments_lexer": "ipython3",
   "version": "3.6.1"
  }
 },
 "nbformat": 4,
 "nbformat_minor": 2
}
