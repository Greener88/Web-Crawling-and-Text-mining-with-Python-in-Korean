{
 "cells": [
  {
   "cell_type": "markdown",
   "metadata": {},
   "source": [
    "# 파이썬 웹 크롤링 & 텍스트 분석"
   ]
  },
  {
   "cell_type": "markdown",
   "metadata": {},
   "source": [
    "## 7. KonlPy를 활용한 한국어 텍스트 분석\n",
    "- 토큰화\n",
    "- 형태소 분석"
   ]
  },
  {
   "cell_type": "markdown",
   "metadata": {},
   "source": [
    "### 토큰화(tokenization)\n",
    "- 토큰화란 말뭉치를 작은 구성 요소(문장, 단어, 형태소 등)를 단위로 나누는 것을 의미한다.\n",
    "    - 문장 단위 토큰화(sentence tokenization)\n",
    "    - 단어 단위 토큰화(word tokenization)\n",
    "    - 형태소 단위 토큰화"
   ]
  },
  {
   "cell_type": "code",
   "execution_count": 2,
   "metadata": {
    "collapsed": true
   },
   "outputs": [],
   "source": [
    "# 꼬꼬마 형태소 분석기 사용\n",
    "from konlpy.tag import Kkma\n",
    "k = Kkma()"
   ]
  },
  {
   "cell_type": "code",
   "execution_count": 1,
   "metadata": {
    "collapsed": true
   },
   "outputs": [],
   "source": [
    "text = \"아버지가 방에 들어가신다. 누나가 집에 들어온다. 엄마가 요리를 한다.\""
   ]
  },
  {
   "cell_type": "code",
   "execution_count": 6,
   "metadata": {},
   "outputs": [
    {
     "name": "stdout",
     "output_type": "stream",
     "text": [
      "['아버지가 방에 들어가신다.', '누나가 집에 들어온다.', '엄마가 요리를 한다.']\n",
      "['아버지가 방에 들어가신다', '누나가 집에 들어온다', '엄마가 요리를 한다.']\n"
     ]
    }
   ],
   "source": [
    "print(k.sentences(text))    \n",
    "print(text.split(\". \"))      # Kkma.sentences()와 동일한 기능"
   ]
  },
  {
   "cell_type": "code",
   "execution_count": 7,
   "metadata": {},
   "outputs": [
    {
     "name": "stdout",
     "output_type": "stream",
     "text": [
      "['아버지', '가', '방', '에', '들어가', '시', 'ㄴ다', '.', '누나', '가', '집', '에', '들어오', 'ㄴ다', '.', '엄마', '가', '요리', '를', '하', 'ㄴ다', '.']\n",
      "['아버지가', '방에', '들어가신다.', '누나가', '집에', '들어온다.', '엄마가', '요리를', '한다.']\n"
     ]
    }
   ],
   "source": [
    "print(k.morphs(text))    # 형태소 단위 토큰화\n",
    "print(text.split())      # 단어 단위 토큰화"
   ]
  },
  {
   "cell_type": "markdown",
   "metadata": {},
   "source": [
    "### 형태소 분석\n",
    "- 형태소, 어근, 접두사/접미사 등 문장의 다양한 구성 요소를 분석하는 것이다.\n",
    "- 품사(Part-Of-Speech): 형태소의 문장에서의 역할(명사, 동사, 형용사 등)을 나타낸다.\n",
    "    - 품사 태깅(POS Taging): 형태소의 뜻과 문맥을 고려하여 각각의 품사를 마킹하는 작업.\n",
    "- 한국어 품사 태그표(konlpy)\n",
    "    - https://docs.google.com/spreadsheets/d/1OGAjUvalBuX-oZvZ_-9tEfYD2gQe7hTGsgUpiiBSXI8/edit#gid=0"
   ]
  },
  {
   "cell_type": "code",
   "execution_count": 8,
   "metadata": {},
   "outputs": [
    {
     "name": "stdout",
     "output_type": "stream",
     "text": [
      "['아버지', '방', '누나', '집', '엄마', '요리']\n"
     ]
    }
   ],
   "source": [
    "print(k.nouns(text))   # 명사만 추출"
   ]
  },
  {
   "cell_type": "code",
   "execution_count": 9,
   "metadata": {},
   "outputs": [
    {
     "name": "stdout",
     "output_type": "stream",
     "text": [
      "[('아버지', 'NNG'), ('가', 'JKS'), ('방', 'NNG'), ('에', 'JKM'), ('들어가', 'VV'), ('시', 'EPH'), ('ㄴ다', 'EFN'), ('.', 'SF'), ('누나', 'NNG'), ('가', 'JKS'), ('집', 'NNG'), ('에', 'JKM'), ('들어오', 'VV'), ('ㄴ다', 'EFN'), ('.', 'SF'), ('엄마', 'NNG'), ('가', 'JKS'), ('요리', 'NNG'), ('를', 'JKO'), ('하', 'VV'), ('ㄴ다', 'EFN'), ('.', 'SF')]\n"
     ]
    }
   ],
   "source": [
    "print(k.pos(text))     # 품사 태깅"
   ]
  },
  {
   "cell_type": "markdown",
   "metadata": {},
   "source": [
    "### 형태소 분석기\n",
    "- KonlPy에는 서로 다른 형태소 분석기 5개가 내장되어 있다.\n",
    "    - ```Kkma, Twitter, Komoran, Hannanum, Mecab```\n",
    "    - 이 중 ```Mecab```은 리눅스에서만 사용 가능하므로, 실제로 4가지의 형태소 분석기를 사용 가능하다.\n",
    "    - 본 수업에서는 ```Twitter``` 형태 분석기를 사용할 것이다.\n",
    "- 서로 다른 형태소 분석기는 서로 다른 결과를 가져온다.\n",
    "    - 속도 뿐만 아니라 품사 태깅 결과도 다르다."
   ]
  },
  {
   "cell_type": "code",
   "execution_count": 16,
   "metadata": {
    "collapsed": true
   },
   "outputs": [],
   "source": [
    "from konlpy.tag import Kkma, Twitter, Komoran, Hannanum"
   ]
  },
  {
   "cell_type": "code",
   "execution_count": 18,
   "metadata": {},
   "outputs": [
    {
     "name": "stdout",
     "output_type": "stream",
     "text": [
      "[('아버지', 'NNG'), ('가', 'JKS'), ('방', 'NNG'), ('에', 'JKM'), ('들어가', 'VV'), ('시', 'EPH'), ('ㄴ다', 'EFN'), ('.', 'SF'), ('누나', 'NNG'), ('가', 'JKS'), ('집', 'NNG'), ('에', 'JKM'), ('들어오', 'VV'), ('ㄴ다', 'EFN'), ('.', 'SF'), ('엄마', 'NNG'), ('가', 'JKS'), ('요리', 'NNG'), ('를', 'JKO'), ('하', 'VV'), ('ㄴ다', 'EFN'), ('.', 'SF')]\n",
      "[('아버지', 'Noun'), ('가', 'Josa'), ('방', 'Noun'), ('에', 'Josa'), ('들어가신', 'Verb'), ('다', 'Eomi'), ('.', 'Punctuation'), ('누나', 'Noun'), ('가', 'Josa'), ('집', 'Noun'), ('에', 'Josa'), ('들어온', 'Verb'), ('다', 'Eomi'), ('.', 'Punctuation'), ('엄마', 'Noun'), ('가', 'Josa'), ('요리', 'Noun'), ('를', 'Josa'), ('한', 'Verb'), ('다', 'Eomi'), ('.', 'Punctuation')]\n",
      "[('아버지', 'NNG'), ('가', 'JKS'), ('방', 'NNG'), ('에', 'JKB'), ('들어가', 'VV'), ('시', 'EP'), ('ㄴ다', 'EF'), ('.', 'SF'), ('누나', 'NNG'), ('가', 'JKS'), ('집', 'NNG'), ('에', 'JKB'), ('들어오', 'VV'), ('ㄴ다', 'EF'), ('.', 'SF'), ('엄마', 'NNG'), ('가', 'JKS'), ('요리', 'NNG'), ('를', 'JKO'), ('하', 'VX'), ('ㄴ다', 'EF'), ('.', 'SF')]\n"
     ]
    }
   ],
   "source": [
    "kkma = Kkma()\n",
    "print(kkma.pos(text))\n",
    "twitter = Twitter()\n",
    "print(twitter.pos(text))\n",
    "komoran = Komoran()\n",
    "print(komoran.pos(text))"
   ]
  },
  {
   "cell_type": "markdown",
   "metadata": {},
   "source": [
    "### 실습 7-1. KonlPy를 활용한 한국어 텍스트 분석 (1)\n",
    "- ```KonlPy```의 ```Twitter``` 형태소 분석기를 활용해 아래 텍스트를 품사 태깅해 본다.\n",
    "- \"어느 평론가들처럼 냉철하고 의미있는 평론은 못하지만 근 몇년 동안 봐온 영화중에 가장 눈과 귀가 즐거웠고 마음은 따뜻했었다. 그리고 또 보고싶다.\""
   ]
  },
  {
   "cell_type": "code",
   "execution_count": 19,
   "metadata": {},
   "outputs": [
    {
     "name": "stdout",
     "output_type": "stream",
     "text": [
      "[('어느', 'Adverb'), ('평론가', 'Noun'), ('들', 'Suffix'), ('처럼', 'Josa'), ('냉철', 'Noun'), ('하고', 'Josa'), ('의미', 'Noun'), ('있는', 'Adjective'), ('평론', 'Noun'), ('은', 'Josa'), ('못', 'VerbPrefix'), ('하지', 'Verb'), ('만', 'Eomi'), ('근', 'Noun'), ('몇', 'NounPrefix'), ('년', 'Noun'), ('동안', 'Noun'), ('봐온', 'Noun'), ('영화', 'Noun'), ('중', 'Suffix'), ('에', 'Josa'), ('가장', 'Noun'), ('눈', 'Noun'), ('과', 'Josa'), ('귀가', 'Noun'), ('즐거웠', 'Adjective'), ('고', 'Eomi'), ('마음', 'Noun'), ('은', 'Josa'), ('따뜻했', 'Adjective'), ('었', 'PreEomi'), ('다', 'Eomi'), ('.', 'Punctuation'), ('그리고', 'Conjunction'), ('또', 'Noun'), ('보고', 'Verb'), ('싶', 'PreEomi'), ('다', 'Eomi'), ('.', 'Punctuation')]\n"
     ]
    }
   ],
   "source": [
    "## Your answer"
   ]
  },
  {
   "cell_type": "markdown",
   "metadata": {},
   "source": [
    "### 실습 7-2. KonlPy를 활용한 한국어 텍스트 분석 (2)\n",
    "- ```KonlPy```의 ```Twitter``` 형태소 분석기를 활용해 아래 텍스트의 형태소 중 명사(Noun)와 형용사(Adjective)만 출력해 본다.\n",
    "- \"어느 평론가들처럼 냉철하고 의미있는 평론은 못하지만 근 몇년 동안 봐온 영화중에 가장 눈과 귀가 즐거웠고 마음은 따뜻했었다. 그리고 또 보고싶다.\""
   ]
  },
  {
   "cell_type": "code",
   "execution_count": 21,
   "metadata": {},
   "outputs": [
    {
     "name": "stdout",
     "output_type": "stream",
     "text": [
      "평론가 냉철 의미 있는 평론 근 년 동안 봐온 영화 가장 눈 귀가 즐거웠 마음 따뜻했 또 "
     ]
    }
   ],
   "source": [
    "## Your answer"
   ]
  }
 ],
 "metadata": {
  "kernelspec": {
   "display_name": "Python 3",
   "language": "python",
   "name": "python3"
  },
  "language_info": {
   "codemirror_mode": {
    "name": "ipython",
    "version": 3
   },
   "file_extension": ".py",
   "mimetype": "text/x-python",
   "name": "python",
   "nbconvert_exporter": "python",
   "pygments_lexer": "ipython3",
   "version": "3.6.1"
  }
 },
 "nbformat": 4,
 "nbformat_minor": 2
}
