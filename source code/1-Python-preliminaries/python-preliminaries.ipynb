{
 "cells": [
  {
   "cell_type": "markdown",
   "metadata": {},
   "source": [
    "# 파이썬 웹 크롤링 & 텍스트 분석"
   ]
  },
  {
   "cell_type": "markdown",
   "metadata": {},
   "source": [
    "## 1. Python Preliminaries\n",
    "- urllib (urlopen)\n",
    "- bs4 (BeautifulSoup)"
   ]
  },
  {
   "cell_type": "markdown",
   "metadata": {},
   "source": [
    "### Basic Data Types\n",
    "- ```Boolean```\n",
    "- ```Integer```\n",
    "- ```Float```\n",
    "- ```String```"
   ]
  },
  {
   "cell_type": "code",
   "execution_count": 1,
   "metadata": {
    "collapsed": true
   },
   "outputs": [
    {
     "name": "stdout",
     "output_type": "stream",
     "text": [
      "False\n",
      "True\n"
     ]
    }
   ],
   "source": [
    "## Boolean\n",
    "x = True\n",
    "y = False\n",
    "\n",
    "print(x == y)\n",
    "print(x != y)"
   ]
  },
  {
   "cell_type": "code",
   "execution_count": 2,
   "metadata": {
    "collapsed": true
   },
   "outputs": [
    {
     "name": "stdout",
     "output_type": "stream",
     "text": [
      "<class 'int'>\n",
      "<class 'float'>\n",
      "9.0\n"
     ]
    }
   ],
   "source": [
    "## Numerical\n",
    "x = 4\n",
    "y = 5.0\n",
    "\n",
    "print(type(x))\n",
    "print(type(y))\n",
    "print(x + y)"
   ]
  },
  {
   "cell_type": "code",
   "execution_count": 8,
   "metadata": {},
   "outputs": [
    {
     "name": "stdout",
     "output_type": "stream",
     "text": [
      "H\n",
      "d\n",
      "rld\n",
      "He\n",
      "Hello World\n",
      "Hello Python!\n",
      "Hello Java!\n"
     ]
    }
   ],
   "source": [
    "## String\n",
    "x = \"Hello\"\n",
    "y = \" \"\n",
    "z = \"World\"\n",
    "\n",
    "# indexing & slicing\n",
    "print(x[0])\n",
    "print(z[-1])\n",
    "print(z[2:])\n",
    "print(x[:2])\n",
    "\n",
    "# string concatenation\n",
    "print(x + y + z)\n",
    "\n",
    "# formatting\n",
    "print(\"Hello {}!\".format(\"Python\"))\n",
    "print(\"Hello {}!\".format(\"Java\"))"
   ]
  },
  {
   "cell_type": "code",
   "execution_count": 9,
   "metadata": {
    "collapsed": true
   },
   "outputs": [
    {
     "name": "stdout",
     "output_type": "stream",
     "text": [
      "1\n",
      "1.0\n",
      "106\n",
      "106\n"
     ]
    }
   ],
   "source": [
    "## Type casting\n",
    "x = 1\n",
    "print(x)\n",
    "x = float(x)\n",
    "print(x)\n",
    "\n",
    "y = \"106\"\n",
    "print(y)\n",
    "y = int(y)\n",
    "print(y)"
   ]
  },
  {
   "cell_type": "markdown",
   "metadata": {},
   "source": [
    "### Python Data Structures\n",
    "- ```Tuple```\n",
    "- ```List```\n",
    "- ```Set```\n",
    "- ```Dictionary```"
   ]
  },
  {
   "cell_type": "code",
   "execution_count": 10,
   "metadata": {
    "scrolled": true
   },
   "outputs": [],
   "source": [
    "## creating data structure\n",
    "atuple = (1, 2, 3)\n",
    "alist = [1, 2, 3]\n",
    "aset = {1, 2, 3}\n",
    "adict = {1: \"John\", 2: \"Jane\", 3: \"Sandy\"}"
   ]
  },
  {
   "cell_type": "code",
   "execution_count": 11,
   "metadata": {
    "collapsed": true
   },
   "outputs": [
    {
     "name": "stdout",
     "output_type": "stream",
     "text": [
      "True\n",
      "True\n",
      "False\n"
     ]
    }
   ],
   "source": [
    "## in operator\n",
    "print(1 in atuple)\n",
    "print(2 in alist)\n",
    "print(100 in aset)"
   ]
  },
  {
   "cell_type": "code",
   "execution_count": 12,
   "metadata": {
    "collapsed": true
   },
   "outputs": [
    {
     "name": "stdout",
     "output_type": "stream",
     "text": [
      "2\n",
      "20\n",
      "[12, 14, 16, 18, 20]\n",
      "[2, 4, 6, 8, 10, 12, 14]\n"
     ]
    }
   ],
   "source": [
    "## indexing & slicing\n",
    "alist = [2, 4, 6, 8, 10, 12, 14, 16, 18, 20]\n",
    "\n",
    "print(alist[0])\n",
    "print(alist[-1])\n",
    "print(alist[5:])\n",
    "print(alist[:7])"
   ]
  },
  {
   "cell_type": "code",
   "execution_count": 14,
   "metadata": {
    "collapsed": true
   },
   "outputs": [
    {
     "name": "stdout",
     "output_type": "stream",
     "text": [
      "[5, 6]\n",
      "1\n"
     ]
    }
   ],
   "source": [
    "## 2-D list\n",
    "\n",
    "alist = [[1,2], [3,4], [5,6]]\n",
    "\n",
    "print(alist[-1])\n",
    "print(alist[0][0])"
   ]
  },
  {
   "cell_type": "markdown",
   "metadata": {},
   "source": [
    "### Conditionals and Loops\n",
    "- ```if-else```\n",
    "- ```for x in y```\n",
    "- ```while x```"
   ]
  },
  {
   "cell_type": "code",
   "execution_count": 15,
   "metadata": {},
   "outputs": [
    {
     "name": "stdout",
     "output_type": "stream",
     "text": [
      "x is positive\n"
     ]
    }
   ],
   "source": [
    "# if-elif-else \n",
    "x = 5\n",
    "if x > 0:\n",
    "    print('x is positive')\n",
    "elif x < 0:\n",
    "    print('x is negative')\n",
    "else:\n",
    "    print('x is zero')"
   ]
  },
  {
   "cell_type": "code",
   "execution_count": 16,
   "metadata": {},
   "outputs": [
    {
     "name": "stdout",
     "output_type": "stream",
     "text": [
      "Johnny\n",
      "Jane\n",
      "Sam\n",
      "Kim\n"
     ]
    }
   ],
   "source": [
    "# iterating with for loop\n",
    "names = ['Johnny', 'Jane', 'Sam', 'Kim']\n",
    "# as there are four elements in list, actions are repeated for four times\n",
    "for name in names:\n",
    "    print(name)"
   ]
  },
  {
   "cell_type": "code",
   "execution_count": 17,
   "metadata": {},
   "outputs": [
    {
     "name": "stdout",
     "output_type": "stream",
     "text": [
      "Jane\n",
      "Kim\n"
     ]
    }
   ],
   "source": [
    "# using for loop and if statement together\n",
    "ids = [('Johnny', 1), ('Jane', 2), ('Sam', 3), ('Kim', 4)]\n",
    "for name, identifier in ids:\n",
    "    if identifier % 2 == 0:\n",
    "        print(name)    # print names with only even identifiers"
   ]
  },
  {
   "cell_type": "markdown",
   "metadata": {},
   "source": [
    "### Functions and Modules\n",
    "- Functions\n",
    "- Modules & Packages"
   ]
  },
  {
   "cell_type": "code",
   "execution_count": 18,
   "metadata": {},
   "outputs": [
    {
     "name": "stdout",
     "output_type": "stream",
     "text": [
      "0\n",
      "1\n",
      "2\n",
      "3\n",
      "4\n"
     ]
    }
   ],
   "source": [
    "# range() function\n",
    "x = range(5)                  \n",
    "for i in x:\n",
    "    print(i)"
   ]
  },
  {
   "cell_type": "code",
   "execution_count": 19,
   "metadata": {},
   "outputs": [
    {
     "name": "stdout",
     "output_type": "stream",
     "text": [
      "0\n",
      "1\n",
      "2\n"
     ]
    }
   ],
   "source": [
    "# one arguments \n",
    "for i in range(3):\n",
    "    print(i)"
   ]
  },
  {
   "cell_type": "code",
   "execution_count": 20,
   "metadata": {},
   "outputs": [
    {
     "name": "stdout",
     "output_type": "stream",
     "text": [
      "1\n",
      "2\n"
     ]
    }
   ],
   "source": [
    "# two arguments\n",
    "for i in range(1, 3):\n",
    "    print(i)"
   ]
  },
  {
   "cell_type": "code",
   "execution_count": 21,
   "metadata": {},
   "outputs": [
    {
     "name": "stdout",
     "output_type": "stream",
     "text": [
      "1\n",
      "3\n",
      "5\n",
      "7\n",
      "9\n"
     ]
    }
   ],
   "source": [
    "# with three arguments\n",
    "for i in range(1, 10, 2):\n",
    "    print(i)"
   ]
  },
  {
   "cell_type": "code",
   "execution_count": 22,
   "metadata": {},
   "outputs": [
    {
     "name": "stdout",
     "output_type": "stream",
     "text": [
      "5\n",
      "4\n",
      "3\n",
      "2\n"
     ]
    }
   ],
   "source": [
    "# with negative step size\n",
    "for i in range(5, 1, -1):\n",
    "    print(i)"
   ]
  },
  {
   "cell_type": "code",
   "execution_count": 23,
   "metadata": {},
   "outputs": [
    {
     "name": "stdout",
     "output_type": "stream",
     "text": [
      "I like Python\n",
      "I like Java\n",
      "I like C++\n"
     ]
    }
   ],
   "source": [
    "# function with argument & return object\n",
    "def my_function(language):\n",
    "    sentence = 'I like ' + language\n",
    "    return sentence\n",
    "\n",
    "# By using arguments, we can enhance reusability of functions!!!\n",
    "x = my_function('Python')\n",
    "print(x)\n",
    "y = my_function('Java')\n",
    "print(y)\n",
    "z = my_function('C++')\n",
    "print(z)"
   ]
  },
  {
   "cell_type": "markdown",
   "metadata": {},
   "source": [
    "### Modules & Packages\n",
    "```ruby\n",
    "import package_name [as alias]\n",
    "import package_name.module_name\n",
    "from package_name import module_name\n",
    "from package_name import *\n",
    "\n",
    "import module_name [as alias]\n",
    "import module_name.function_name\n",
    "from module_name import function_name\n",
    "from module_name import *\n",
    "```"
   ]
  },
  {
   "cell_type": "code",
   "execution_count": 24,
   "metadata": {},
   "outputs": [
    {
     "name": "stdout",
     "output_type": "stream",
     "text": [
      "22026.465794806718\n",
      "22026.465794806718\n",
      "22026.465794806718\n",
      "22026.465794806718\n"
     ]
    }
   ],
   "source": [
    "import math         # import package\n",
    "x = math.exp(10)\n",
    "print(x)\n",
    "\n",
    "import math as m     # use alias\n",
    "x = m.exp(10)\n",
    "print(x)\n",
    "\n",
    "from math import exp  # import function from package\n",
    "x = exp(10)\n",
    "print(x)\n",
    "\n",
    "from math import *    # import all classes/functions in package\n",
    "x = exp(10)\n",
    "print(x)"
   ]
  },
  {
   "cell_type": "code",
   "execution_count": 27,
   "metadata": {},
   "outputs": [
    {
     "name": "stdout",
     "output_type": "stream",
     "text": [
      "1\n",
      "7\n",
      "4\n",
      "b\n"
     ]
    }
   ],
   "source": [
    "## Using Counter class in collections package\n",
    "from collections import Counter\n",
    "l = [1, 1, 7, 7, 7, 4, 4, 4, 2, 1, 5, 5, 9, 11, 3, 'a', 'x', 9, 8, 'b', 'b', 'z', 'b']\n",
    "counts = Counter(l)\n",
    "#print(counts)\n",
    "for key in counts:\n",
    "    # print(key)\n",
    "    if counts[key] > 2:\n",
    "        print(key)"
   ]
  },
  {
   "cell_type": "markdown",
   "metadata": {},
   "source": [
    "### File Handling\n",
    "- Reading text files\n",
    "- Writing text files"
   ]
  },
  {
   "cell_type": "code",
   "execution_count": null,
   "metadata": {},
   "outputs": [],
   "source": [
    "## read()\n",
    "file = open('text.txt', 'r', encoding = 'utf-8')\n",
    "data = file.read()\n",
    "print(type(data))"
   ]
  },
  {
   "cell_type": "code",
   "execution_count": null,
   "metadata": {},
   "outputs": [],
   "source": [
    "## readlines()\n",
    "file = open('text.txt', 'r', encoding = 'utf-8')\n",
    "data = file.readlines()\n",
    "print(type(data))\n",
    "file.close()"
   ]
  },
  {
   "cell_type": "code",
   "execution_count": null,
   "metadata": {},
   "outputs": [],
   "source": [
    "## readline()\n",
    "file = open('text.txt', 'r', encoding = 'utf-8')\n",
    "data = file.readline()\n",
    "print(type(data))\n",
    "file.close()"
   ]
  },
  {
   "cell_type": "code",
   "execution_count": null,
   "metadata": {},
   "outputs": [],
   "source": [
    "## one problem is that write() does not distinguish lines per se\n",
    "# writing strings line by line (with '\\n')\n",
    "file = open('new_file_3.txt', 'w', encoding = 'utf-8')\n",
    "file.write('To be, or not to be - that is the question: \\n')\n",
    "file.write(\"Whether 'tis nobler in the mind to suffer \\n\")\n",
    "file.write('The slings and arrows of outrageous fortune \\n')\n",
    "file.write('Or to take arms against a sea of troubles \\n')\n",
    "file.write('And by opposing end them')\n",
    "file.close()"
   ]
  }
 ],
 "metadata": {
  "kernelspec": {
   "display_name": "Python 3",
   "language": "python",
   "name": "python3"
  },
  "language_info": {
   "codemirror_mode": {
    "name": "ipython",
    "version": 3
   },
   "file_extension": ".py",
   "mimetype": "text/x-python",
   "name": "python",
   "nbconvert_exporter": "python",
   "pygments_lexer": "ipython3",
   "version": "3.6.1"
  }
 },
 "nbformat": 4,
 "nbformat_minor": 2
}
