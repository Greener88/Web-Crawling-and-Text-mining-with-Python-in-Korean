{
 "cells": [
  {
   "cell_type": "markdown",
   "metadata": {},
   "source": [
    "# 파이썬 웹 크롤링 & 텍스트 분석"
   ]
  },
  {
   "cell_type": "markdown",
   "metadata": {},
   "source": [
    "## 3. Urllib & BeautifulSoup\n",
    "- urllib (urlopen)\n",
    "- bs4 (BeautifulSoup)"
   ]
  },
  {
   "cell_type": "markdown",
   "metadata": {},
   "source": [
    "### urllib\n",
    "- ```urllib.request```의 ```urlopen()``` 함수를 활용하여 웹에 있는 정보를 URL로 접근하여 가져올 수 있다."
   ]
  },
  {
   "cell_type": "code",
   "execution_count": 1,
   "metadata": {
    "collapsed": true
   },
   "outputs": [],
   "source": [
    "from urllib.request import urlopen"
   ]
  },
  {
   "cell_type": "code",
   "execution_count": 3,
   "metadata": {
    "collapsed": true
   },
   "outputs": [],
   "source": [
    "url = \"http://www.google.com\""
   ]
  },
  {
   "cell_type": "code",
   "execution_count": 12,
   "metadata": {},
   "outputs": [],
   "source": [
    "# open() 함수를 사용할 때와 비슷하게 read(), readline(), readlines() 함수를 통해 내용을 가져올 수 있다\n",
    "with urlopen(url) as response:\n",
    "    html = response.read()"
   ]
  },
  {
   "cell_type": "code",
   "execution_count": null,
   "metadata": {
    "collapsed": true
   },
   "outputs": [],
   "source": [
    "print(html)"
   ]
  },
  {
   "cell_type": "markdown",
   "metadata": {},
   "source": [
    "### BeautifulSoup\n",
    "- 일반적으로 html 문서를 파싱할 때에는 ```BeautifulSoup()``` 객체를 생성하고 parser를 지정해 준다\n",
    "- HTML Parser (source: https://www.crummy.com/software/BeautifulSoup/bs4/doc/)\n",
    "    - ```\"html.parser\"```: 파이썬에 기본적으로 내장되어 있는 parser로, 별다른 설치 없이 파이썬만 설치해도 바로 사용할 수 있다.\n",
    "    - ```\"lxml\"```: 파이썬의 ```lxml``` 패키지를 활용하는 parser로, 굉장히 빠르지만 C 언어를 dependency로 가지고 있다는 단점이 있다.\n",
    "    - ```\"html5lib\"```: HTML 언어의 가장 최신 버전인 HTML5를 기반으로 하는 parser library로, 웹 브라우저에 표시되는 대로 정확하게 HTML 문서를 파싱할 수 있다는 장점이 있지만 속도가 느리다는 단점이 있다.\n",
    "- HTML 문서의 탐색\n",
    "    - ```find(\"tag\", {\"attr\": \"value\", \"attr\": \"value\", ...})```: 조건을 만족하는 첫 번째 요소를 찾아준다.\n",
    "    - ```find_all(\"tag\", {\"attr\": \"value\", \"attr\": \"value\", ...})```: 조건을 만족하는 모든 요소를 찾아 리스트로 반환한다.\n",
    "- HTML 문서의 요소 가져오기\n",
    "    - ```element.get_text()```: HTML 요소의 내용(브라우저에 표시되는 내용)을 가져와 string으로 반환한다.\n",
    "```python\n",
    "soup.find(\"a\").get_text()\n",
    "soup.find(\"a\").get_text(strip=True)            # 공백 제거\n",
    "soup.find(\"a\").get_text().replace(\"$\",\"\")      # 특수문자 제거\n",
    "```\n",
    "    - ```element.[attribute]```: HTML 요소의 속성값을 가져와 string으로 반환한다.\n",
    "```python\n",
    "soup.find(\"img\")[\"src\"]    # 이미지의 소스\n",
    "soup.find(\"a\")[\"href\"]     # 링크의 url\n",
    "```"
   ]
  },
  {
   "cell_type": "code",
   "execution_count": 2,
   "metadata": {
    "scrolled": true
   },
   "outputs": [],
   "source": [
    "from bs4 import BeautifulSoup"
   ]
  },
  {
   "cell_type": "code",
   "execution_count": 20,
   "metadata": {
    "collapsed": true
   },
   "outputs": [],
   "source": [
    "url = \"http://www.google.com\""
   ]
  },
  {
   "cell_type": "code",
   "execution_count": 21,
   "metadata": {
    "collapsed": true
   },
   "outputs": [],
   "source": [
    "web = urlopen(url)"
   ]
  },
  {
   "cell_type": "code",
   "execution_count": null,
   "metadata": {
    "collapsed": true
   },
   "outputs": [],
   "source": [
    "soup = BeautifulSoup(web, \"html.parser\")\n",
    "print(soup)"
   ]
  },
  {
   "cell_type": "code",
   "execution_count": 23,
   "metadata": {},
   "outputs": [
    {
     "data": {
      "text/plain": [
       "<a class=\"gb1\" href=\"http://www.google.co.kr/imghp?hl=ko&amp;tab=wi\">이미지</a>"
      ]
     },
     "execution_count": 23,
     "metadata": {},
     "output_type": "execute_result"
    }
   ],
   "source": [
    "soup.find(\"a\")"
   ]
  },
  {
   "cell_type": "code",
   "execution_count": 25,
   "metadata": {},
   "outputs": [
    {
     "data": {
      "text/plain": [
       "<a class=\"gb4\" href=\"http://www.google.co.kr/history/optout?hl=ko\">웹 기록</a>"
      ]
     },
     "execution_count": 25,
     "metadata": {},
     "output_type": "execute_result"
    }
   ],
   "source": [
    "soup.find(\"a\", {\"class\": \"gb4\"})"
   ]
  },
  {
   "cell_type": "code",
   "execution_count": 27,
   "metadata": {},
   "outputs": [
    {
     "data": {
      "text/plain": [
       "<style>#gbar,#guser{font-size:13px;padding-top:1px !important;}#gbar{height:22px}#guser{padding-bottom:7px !important;text-align:right}.gbh,.gbd{border-top:1px solid #c9d7f1;font-size:1px}.gbh{height:0;position:absolute;top:24px;width:100%}@media all{.gb1{height:22px;margin-right:.5em;vertical-align:top}#gbar{float:left}}a.gb1,a.gb4{text-decoration:underline !important}a.gb1,a.gb4{color:#00c !important}.gbi .gb4{color:#dd8e27 !important}.gbf .gb4{color:#900 !important}\n",
       "</style>"
      ]
     },
     "execution_count": 27,
     "metadata": {},
     "output_type": "execute_result"
    }
   ],
   "source": [
    "soup.find({\"class\": \"gbh\", \"style\": \"left:0\"})"
   ]
  },
  {
   "cell_type": "code",
   "execution_count": 28,
   "metadata": {
    "scrolled": false
   },
   "outputs": [
    {
     "data": {
      "text/plain": [
       "[<a class=\"gb1\" href=\"http://www.google.co.kr/imghp?hl=ko&amp;tab=wi\">이미지</a>,\n",
       " <a class=\"gb1\" href=\"http://maps.google.co.kr/maps?hl=ko&amp;tab=wl\">지도</a>,\n",
       " <a class=\"gb1\" href=\"https://play.google.com/?hl=ko&amp;tab=w8\">Play</a>,\n",
       " <a class=\"gb1\" href=\"http://www.youtube.com/?gl=KR&amp;tab=w1\">YouTube</a>,\n",
       " <a class=\"gb1\" href=\"http://news.google.co.kr/nwshp?hl=ko&amp;tab=wn\">뉴스</a>,\n",
       " <a class=\"gb1\" href=\"https://mail.google.com/mail/?tab=wm\">Gmail</a>,\n",
       " <a class=\"gb1\" href=\"https://drive.google.com/?tab=wo\">드라이브</a>,\n",
       " <a class=\"gb1\" href=\"https://www.google.co.kr/intl/ko/options/\" style=\"text-decoration:none\"><u>더보기</u> »</a>,\n",
       " <a class=\"gb4\" href=\"http://www.google.co.kr/history/optout?hl=ko\">웹 기록</a>,\n",
       " <a class=\"gb4\" href=\"/preferences?hl=ko\">설정</a>,\n",
       " <a class=\"gb4\" href=\"https://accounts.google.com/ServiceLogin?hl=ko&amp;passive=true&amp;continue=http://www.google.co.kr/%3Fgfe_rd%3Dcr%26dcr%3D0%26ei%3DNnp5WrioJrHK8gfTxLwY\" id=\"gb_70\" target=\"_top\">로그인</a>,\n",
       " <a href=\"/advanced_search?hl=ko&amp;authuser=0\">고급검색</a>,\n",
       " <a href=\"/language_tools?hl=ko&amp;authuser=0\">언어도구</a>,\n",
       " <a class=\"_XIi\" href=\"https://www.google.com/url?q=https://myaccount.google.com/security-checkup%3Futm_source%3DHPP%26utm_campaign%3DSIDSignedOut&amp;source=hpp&amp;id=19004788&amp;ct=3&amp;usg=AFQjCNEdLavP3XrRuOhyKNjX2IKaQx-f1Q&amp;sa=X&amp;ved=0ahUKEwjro9XIgZHZAhVMEbwKHbdoC1QQ8IcBCAU\" rel=\"nofollow\">보안 진단을 받아보세요</a>,\n",
       " <a href=\"/intl/ko/ads/\">광고 프로그램</a>,\n",
       " <a href=\"http://www.google.co.kr/intl/ko/services/\">비즈니스 솔루션</a>,\n",
       " <a href=\"https://plus.google.com/102197601262446632410\" rel=\"publisher\">+Google</a>,\n",
       " <a href=\"/intl/ko/about.html\">Google 정보</a>,\n",
       " <a href=\"http://www.google.co.kr/setprefdomain?prefdom=US&amp;sig=__E62hrfQycX0-ncBaQy2AuGoyBPc%3D\" id=\"fehl\">Google.com</a>,\n",
       " <a href=\"/intl/ko/policies/privacy/\">개인정보처리방침</a>,\n",
       " <a href=\"/intl/ko/policies/terms/\">약관</a>]"
      ]
     },
     "execution_count": 28,
     "metadata": {},
     "output_type": "execute_result"
    }
   ],
   "source": [
    "soup.find_all(\"a\")"
   ]
  },
  {
   "cell_type": "code",
   "execution_count": 33,
   "metadata": {},
   "outputs": [],
   "source": [
    "# find() 함수의 연쇄활용\n",
    "soup.find(\"table\").find(\"tr\").find(\"tr\")"
   ]
  },
  {
   "cell_type": "code",
   "execution_count": 36,
   "metadata": {},
   "outputs": [
    {
     "data": {
      "text/plain": [
       "'이미지'"
      ]
     },
     "execution_count": 36,
     "metadata": {},
     "output_type": "execute_result"
    }
   ],
   "source": [
    "# 텍스트(요소의 내용) 가져오기\n",
    "soup.find(\"a\").get_text()"
   ]
  },
  {
   "cell_type": "code",
   "execution_count": 37,
   "metadata": {},
   "outputs": [
    {
     "data": {
      "text/plain": [
       "'이미지'"
      ]
     },
     "execution_count": 37,
     "metadata": {},
     "output_type": "execute_result"
    }
   ],
   "source": [
    "# 공백 제거하기\n",
    "soup.find(\"a\").get_text(strip=True)"
   ]
  },
  {
   "cell_type": "markdown",
   "metadata": {},
   "source": [
    "### 실습 3-1. 다음 사전 크롤링하기 (1)"
   ]
  },
  {
   "cell_type": "code",
   "execution_count": 9,
   "metadata": {},
   "outputs": [
    {
     "name": "stdout",
     "output_type": "stream",
     "text": [
      "curiosity\n",
      "1.호기심2.큐리오시티\n"
     ]
    }
   ],
   "source": [
    "## Your answer"
   ]
  },
  {
   "cell_type": "markdown",
   "metadata": {},
   "source": [
    "### 실습 3-2. 다음 사전 크롤링하기 (2)"
   ]
  },
  {
   "cell_type": "code",
   "execution_count": 11,
   "metadata": {},
   "outputs": [
    {
     "name": "stdout",
     "output_type": "stream",
     "text": [
      "curiosity\n",
      "1.호기심2.큐리오시티\n",
      "killed\n",
      "1.죽음2.사망3.살해되다4.목숨을잃다\n",
      "the\n",
      "1.그2.그럴수록3.더욱더\n",
      "cat\n",
      "1.고양이2.고양이과동물\n"
     ]
    }
   ],
   "source": [
    "## You answer"
   ]
  },
  {
   "cell_type": "markdown",
   "metadata": {},
   "source": [
    "### 실습 3-3. 다음 사전 크롤링하기 (3)"
   ]
  },
  {
   "cell_type": "code",
   "execution_count": 13,
   "metadata": {
    "collapsed": true
   },
   "outputs": [],
   "source": [
    "## Your answer"
   ]
  },
  {
   "cell_type": "markdown",
   "metadata": {},
   "source": [
    "### 실습 3-4. 다음 사전 크롤링하기 (4)"
   ]
  },
  {
   "cell_type": "code",
   "execution_count": 15,
   "metadata": {},
   "outputs": [],
   "source": [
    "## Your answer"
   ]
  }
 ],
 "metadata": {
  "kernelspec": {
   "display_name": "Python 3",
   "language": "python",
   "name": "python3"
  },
  "language_info": {
   "codemirror_mode": {
    "name": "ipython",
    "version": 3
   },
   "file_extension": ".py",
   "mimetype": "text/x-python",
   "name": "python",
   "nbconvert_exporter": "python",
   "pygments_lexer": "ipython3",
   "version": "3.6.1"
  }
 },
 "nbformat": 4,
 "nbformat_minor": 2
}
