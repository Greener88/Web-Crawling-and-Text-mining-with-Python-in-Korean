{
 "cells": [
  {
   "cell_type": "markdown",
   "metadata": {},
   "source": [
    "# 파이썬 웹 크롤링 & 텍스트 분석"
   ]
  },
  {
   "cell_type": "markdown",
   "metadata": {},
   "source": [
    "## 6. 다음 영화 리뷰 크롤링하기(using splinter)\n",
    "- 첫 페이지의 리뷰 크롤링하기\n",
    "- 마지막 10개의 리뷰 크롤링하기\n",
    "- 첫 10페이지의 리뷰 크롤링하기"
   ]
  },
  {
   "cell_type": "code",
   "execution_count": 1,
   "metadata": {
    "collapsed": true
   },
   "outputs": [],
   "source": [
    "from splinter import Browser\n",
    "from bs4 import BeautifulSoup\n",
    "\n",
    "# 각 페이지의 리뷰를 가져오는 함수\n",
    "def get_reviews(html):\n",
    "    source = BeautifulSoup(html, \"html5lib\")\n",
    "    reviews = source.find_all('p', {'class': 'desc_review'})\n",
    "    reviews = [x.get_text(strip=True) for x in reviews \\\n",
    "               if x.get_text(strip=True) != \"\"]\n",
    "    return reviews"
   ]
  },
  {
   "cell_type": "markdown",
   "metadata": {},
   "source": [
    "### 실습 6-1. 라라랜드 영화 크롤링하기 (1)\n",
    "- Splinter와 BeautifulSoup을 활용해 라라랜드 영화의 첫 페이지의 리뷰를 크롤링해 출력해 본다.\n",
    "- URL: ```http://movie.daum.net/moviedb/grade?movieId=95306&type=netizen&page=1```"
   ]
  },
  {
   "cell_type": "code",
   "execution_count": 23,
   "metadata": {},
   "outputs": [
    {
     "name": "stdout",
     "output_type": "stream",
     "text": [
      "['다시 보고싶은 영화, ost에 빠져드는 영화', \"영화가 줄 수 있는 아름다움의 극치....아름다운 음악과 영상을 극장에서 보지 못한게 정말 후회되요.특히 두 주인공의 마지막 만남의 '가지않은 길'에 대한 상상 씬은 ᆢ감탄만 나오네요.\", '결과가 현실적이어서 더 환상적이었다.', '역시 위플래쉬감독음악을 좀아는 감독!!!!', 'ㆍ', '저영화를 보고 역겹다는 사람도 다 있네세상은 넓고 별사람도 넘쳐난다', '아. 진심 끝까지 본 나를 미워하게 되는 영화.역겹다']\n"
     ]
    }
   ],
   "source": [
    "## Your answer"
   ]
  },
  {
   "cell_type": "markdown",
   "metadata": {},
   "source": [
    "### 실습 6-2. 라라랜드 영화 크롤링하기 (2)\n",
    "- Splinter와 BeautifulSoup을 활용해 라라랜드 영화의 첫 열 페이지의 리뷰를 크롤링해 리스트에 순서대로 저장해 본다. 마지막 10개의 리뷰를 출력해 본다.\n",
    "- URL: ```http://movie.daum.net/moviedb/grade?movieId=95306&type=netizen```"
   ]
  },
  {
   "cell_type": "code",
   "execution_count": 26,
   "metadata": {},
   "outputs": [
    {
     "name": "stdout",
     "output_type": "stream",
     "text": [
      "['마지막 두남녀의 눈인사.....멋진 장면....굿...', '여자가 된장임', '원스도 그렇고 라라랜드도 그렇고 줄거리, 영화구조는 별로인데 음악 몇곡만 온니 좋다. 이럴려면 음악감상이나 하지. 진짜 좋은 뮤지컬영화는 음악도 좋아야 하지만 줄거리, 전개, 구조가 더 탄탄해야 한다.', '실패가 있음으로 변수도 있고 추억도 있다..취향 아니라 어찌보면 지루했지만 보는내내 입가엔 웃음이, 마지막엔 감흥이..', '나 남자인데 몇번 봤는데 여자만 보는거 아니다 ㅋㅋ', '호불호 갈리는 영화어느 여인들처럼 상영중 나가버릴 수 있고나처럼 영화관 또 와서 볼 수 있고', '별로... 남주가 잘될때 위기의식 열등감에 꿈 포기하려던 여주가 본인 잘되고나선 영원히 사랑하겠다던 남주 쏠랑 잊어버리고 딴남자랑 결혼해서 애까지낳고 사는, 그이상이하도 아님. 배우된것도 남주덕이 큰데 사랑고백후 헤어지고선 어떻게 5년동안 한번을 찾을생각을 안했을까 개연성도 부족. 다른 사람이 보기엔현실적이다 더 애틋하다 할지 몰라도 갠적으론 여주가 참 별로로 느껴짐. 음악 연기는 좋았음.', '여성관걕을 노린 상업적 영화일 뿐...그 이유는만약, 남주와 여주의 역할이 바뀌어서남주가 유명 배우가 되어 다른 여자랑 결혼했고,재즈바 주인이 된 과거 연인 여주를 찾아왔더라도이렇게 호평을 받을 수 있을까 ?', '힘들지만 꿈을 꾸고 살았던 젊은 시절의 이루지 못한 짦은 로맨스를 아름다운 음악 선율로 표현 했네요.아름다운 음악과 배우들의 연기, 배경 이 정말 환상적이었어요.젊은시절 있을 수 있는 짧은 사랑 이죠너무 좋았어요..', \"뮤지컬을 담은 영화에감동을 처음 접했다.완벽한 선율과끝모를 안타까움을 머금게한 아름답고 황홀한 드라마.내가 무능해야 자신이 우월하다고 느끼냐는 세바스챤의되질문에 같은 남자지만 안타까웠다.자격지심의 그 한마디미아를 아프게한 그 한마디...엔딩의 재회에서 피아노선율그들의 theme에서세바스찬이 진정 원했던바램을 화려한 환타지로그리는 흐름에왜이렇게 맘이 짠한건지...ㅎ마치 영화가 아닌듯하게...'각자의 꿈을 이루는데 헤어지지 않고도 아름다울 수 있지 않나?'여운이 채 가시지 않게Original Soundtrack을찾아 구입하게 한 놀라운 경험!\"]\n"
     ]
    }
   ],
   "source": [
    "## Your answer"
   ]
  },
  {
   "cell_type": "markdown",
   "metadata": {},
   "source": [
    "### 실습 6-3. 라라랜드 영화 크롤링하기 (3)\n",
    "- Splinter와 BeautifulSoup을 활용해 라라랜드 영화의 첫 열 페이지의 리뷰를 크롤링해 텍스트 파일(6-3.txt)로 저장해 본다.\n",
    "- URL: ```http://movie.daum.net/moviedb/grade?movieId=95306&type=netizen```"
   ]
  },
  {
   "cell_type": "code",
   "execution_count": 29,
   "metadata": {
    "collapsed": true
   },
   "outputs": [],
   "source": [
    "## Your answer"
   ]
  }
 ],
 "metadata": {
  "kernelspec": {
   "display_name": "Python 3",
   "language": "python",
   "name": "python3"
  },
  "language_info": {
   "codemirror_mode": {
    "name": "ipython",
    "version": 3
   },
   "file_extension": ".py",
   "mimetype": "text/x-python",
   "name": "python",
   "nbconvert_exporter": "python",
   "pygments_lexer": "ipython3",
   "version": "3.6.1"
  }
 },
 "nbformat": 4,
 "nbformat_minor": 2
}
